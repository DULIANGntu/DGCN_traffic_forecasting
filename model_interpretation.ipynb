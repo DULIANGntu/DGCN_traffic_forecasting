{
 "cells": [
  {
   "cell_type": "code",
   "execution_count": null,
   "metadata": {},
   "outputs": [],
   "source": [
    "from __future__ import print_function\n",
    "import os\n",
    "import keras\n",
    "import tensorflow as tf\n",
    "\n",
    "config = tf.ConfigProto( device_count = {'GPU': 1 , 'CPU': 56} ) \n",
    "sess = tf.Session(config=config) \n",
    "keras.backend.set_session(sess)\n",
    "\n",
    "from custom_model.layers_keras import *\n",
    "from custom_model.model_keras import *\n",
    "from custom_model.math_utils import *\n",
    "from utils_vis import *\n",
    "from keras import metrics\n",
    "\n",
    "import matplotlib.pyplot as plt\n",
    "%matplotlib inline\n",
    "import h5py\n",
    "import numpy as np"
   ]
  },
  {
   "cell_type": "code",
   "execution_count": null,
   "metadata": {},
   "outputs": [],
   "source": [
    "dt = 5\n",
    "horizon = 30\n",
    "OBS = 60//dt-1\n",
    "PRED = horizon//dt\n",
    "\n",
    "model_name = 'dfn'\n",
    "\n",
    "Data = h5py.File('Datasets/RRot_cc5_30.h5', 'r')\n",
    "x_train = np.array(Data['Speed_obs_train'])\n",
    "y_train = np.array(Data['Speed_pred_train'])\n",
    "e_train = np.array(Data['E_train'])\n",
    "x_test = np.array(Data['Speed_obs_test'])\n",
    "y_test = np.array(Data['Speed_pred_test'])\n",
    "e_test = np.array(Data['E_test'])\n",
    "\n",
    "x_train = x_train[:,-OBS:]\n",
    "y_train = y_train[:,:PRED]\n",
    "e_train =e_train[:,:PRED]\n",
    "y_test = y_test[:,:PRED]\n",
    "e_test =e_test[:,:PRED]\n",
    "\n",
    "X_train = z_score(x_train, np.mean(x_train), np.std(x_train))\n",
    "X_test = z_score(x_test, np.mean(x_test), np.std(x_test))\n",
    "Y_train = z_score(y_train, np.mean(y_train), np.std(y_train))\n",
    "Y_test = z_score(x_test, np.mean(y_test), np.std(y_test))\n",
    "E_train = z_score(e_train, np.mean(e_train), np.std(e_train))\n",
    "E_test = z_score(e_test, np.mean(e_test), np.std(e_test))"
   ]
  },
  {
   "cell_type": "code",
   "execution_count": null,
   "metadata": {},
   "outputs": [],
   "source": [
    "#create model\n",
    "encoder = RNN(DGCRNNCell(k=9,dgc_mode='hybrid'), return_state=True)\n",
    "decoder = RNN(DGCRNNCell(k=9,dgc_mode='hybrid'), return_sequences=True, return_state=True)\n",
    "\n",
    "unstack_k = Lambda(unstack)\n",
    "choice = Scheduled()\n",
    "    \n",
    "input_obs = Input(shape=(OBS, 208, 1)) \n",
    "input_gt = Input(shape=(PRED, 208, 1)) #(None, 4, 208, 1)\n",
    "encoder_inputs = Lambda(lambda x: K.squeeze(x, axis = -1))(input_obs) # (None, 29, 208)\n",
    "    \n",
    "encoder_outputs, state_h = encoder(encoder_inputs)\n",
    "unstacked = unstack_k(input_gt) #[(None, 208, 1) x 4] list\n",
    "    \n",
    "initial = unstacked[0] #(None, 208, 1)\n",
    "decoder_inputs = Lambda(lambda x: K.permute_dimensions(x, (0,2,1)))(initial) #(None, 1, 208)\n",
    "decoder_outputs_new, state_h_new = decoder(decoder_inputs, initial_state=state_h)\n",
    "state_h = state_h_new\n",
    "feature = []\n",
    "feature.append(decoder_outputs_new)\n",
    "if PRED > 1:       \n",
    "    for i in range(1,PRED):\n",
    "        decoder_inputs = unstacked[i]#(None, 208, 1)\n",
    "        decoder_inputs = Lambda(lambda x: K.permute_dimensions(x, (0,2,1)))(decoder_inputs)#(None, 1, 208)\n",
    "        decoder_outputs_new, state_h_new = decoder(decoder_inputs, initial_state=state_h)\n",
    "        state_h = state_h_new\n",
    "        feature.append(decoder_outputs_new)\n",
    "    \n",
    "outputs = Lambda(stack)(feature)\n",
    "model = Model([input_obs, input_gt], outputs)"
   ]
  },
  {
   "cell_type": "code",
   "execution_count": null,
   "metadata": {},
   "outputs": [],
   "source": [
    "#load pretrained models\n",
    "filename = 'pretrained/cc2-k4.h5'\n",
    "file=h5py.File(filename,'r')\n",
    "weight = []\n",
    "for i in range(len(file.keys())):\n",
    "    weight.append(file['weight'+str(i)][:])\n",
    "model.set_weights(weight)"
   ]
  },
  {
   "cell_type": "code",
   "execution_count": null,
   "metadata": {},
   "outputs": [],
   "source": [
    "#prediction\n",
    "y = model.predict([X_test,E_test])\n",
    "y =  z_inverse(y, np.mean(y_test), np.std(y_test))"
   ]
  },
  {
   "cell_type": "code",
   "execution_count": null,
   "metadata": {},
   "outputs": [],
   "source": [
    "# extract dynamic kernels from outputs\n",
    "W = y[...,1:]\n",
    "# choose each step or all steps in the decoder\n",
    "step = 0\n",
    "W = W[:,[step]]\n",
    "W.shape"
   ]
  },
  {
   "cell_type": "code",
   "execution_count": null,
   "metadata": {},
   "outputs": [],
   "source": [
    "f_avr,J_avr,C = Speed_k_correlation(ground_truth=120*y_train[:,[step]], weights=W, k=4)\n",
    "\n",
    "dynamicf = Compare(ground_truth=120*y_train[:,[step]].squeeze(), weights=W.squeeze(), k=4)"
   ]
  },
  {
   "cell_type": "code",
   "execution_count": null,
   "metadata": {},
   "outputs": [],
   "source": [
    "plt.figure(figsize = (13,5))\n",
    "labels = [i for i in range(0, 125, 5)]\n",
    "#y_lab = [-4.5, -3.5,-2.5,-1.5,-0.5,0.5,1.5,2.5,3.5, 4.5]\n",
    "y_lab = np.arange(-9.5,10.5,1)*200\n",
    "plt.xlabel(\"v(km/h)\",fontsize=22)\n",
    "plt.xlim(0,120)\n",
    "plt.ylim(-9.5*200,9.5*200)\n",
    "plt.tick_params(axis='both', which='major', labelsize=18)\n",
    "plt.xticks(np.arange(0, 125, 10))\n",
    "plt.yticks(np.arange(-1800, 1801, 400))\n",
    "plt.ylabel(\"Directional distance (m)\",fontsize=22)\n",
    "plt.pcolormesh(labels, y_lab, np.flip(J_avr,axis=1), cmap = 'jet')\n",
    "plt.title('Average spatial attention vs speed on RotCC5', fontsize=20)\n",
    "plt.colorbar()\n",
    "plt.clim(0,0.2)\n",
    "#plt.show()\n",
    "plt.savefig('Figs/hm-cc5.PNG',dpi=600)"
   ]
  },
  {
   "cell_type": "code",
   "execution_count": null,
   "metadata": {},
   "outputs": [],
   "source": [
    "head = 260\n",
    "end = head+150\n",
    "s = 208\n",
    "gt = 120*y_train[:,[step]].squeeze()\n",
    "\n",
    "plt.figure(figsize = (15,8))\n",
    "y_lab = [0.2*i for i in range(s)]\n",
    "x_lab = [14+3/60*i for i in range(150)]\n",
    "#y, x = np.mgrid[slice(0, (s+1)*0.2, 0.2), slice(14-4/60., 14+150*2/60., 2/60)]\n",
    "plt.xlabel(\"time (PM)\",fontsize=22)\n",
    "plt.xlim(14,19)\n",
    "plt.ylim(0,(s-0.2)*0.2)\n",
    "plt.tick_params(axis='both', which='major', labelsize=18)\n",
    "plt.ylabel(\"position (km)\",fontsize=22)\n",
    "#plt.pcolormesh(x_lab, y_lab, 120*y_train[:,1][head:end].transpose(), cmap = 'autumn')\n",
    "plt.pcolormesh(x_lab, y_lab, dynamicf[head:end].transpose()/4, cmap = 'coolwarm')\n",
    "#levels1 = MaxNLocator(nbins=120).tick_values(-3, 3)\n",
    "#plt.contourf(x[:-1, :-1] + 0.2/2.,\n",
    "                  #y[:-1, :-1] + 2/120., [head:end].transpose(), levels=levels1,\n",
    "                  #cmap='RdYlBu_r')\n",
    "#plt.title('Speed evolution on 13-11-2018 (RotCC2)', fontsize=20)\n",
    "plt.title('Attention coefficient evolution on 13-11-2018 (RotCC2)', fontsize=20)\n",
    "plt.colorbar()\n",
    "#plt.clim(0,1)\n",
    "#plt.show()\n",
    "plt.savefig('Figs/attention.PNG',dpi=600)"
   ]
  },
  {
   "cell_type": "code",
   "execution_count": null,
   "metadata": {},
   "outputs": [],
   "source": []
  }
 ],
 "metadata": {
  "kernelspec": {
   "display_name": "Python 3",
   "language": "python",
   "name": "python3"
  },
  "language_info": {
   "codemirror_mode": {
    "name": "ipython",
    "version": 3
   },
   "file_extension": ".py",
   "mimetype": "text/x-python",
   "name": "python",
   "nbconvert_exporter": "python",
   "pygments_lexer": "ipython3",
   "version": "3.7.3"
  }
 },
 "nbformat": 4,
 "nbformat_minor": 2
}
