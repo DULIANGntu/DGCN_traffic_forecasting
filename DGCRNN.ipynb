{
 "cells": [
  {
   "cell_type": "code",
   "execution_count": null,
   "metadata": {},
   "outputs": [],
   "source": [
    "from __future__ import print_function\n",
    "import os\n",
    "import tensorflow as tf\n",
    "import keras\n",
    "\n",
    "config = tf.ConfigProto( device_count = {'GPU': 1 , 'CPU': 56} ) \n",
    "sess = tf.Session(config=config) \n",
    "keras.backend.set_session(sess)\n",
    "\n",
    "from custom_model.layers_keras import *\n",
    "from custom_model.model_keras import *\n",
    "from custom_model.math_utils import *\n",
    "from keras import metrics\n",
    "\n",
    "import matplotlib.pyplot as plt\n",
    "%matplotlib inline\n",
    "import h5py\n",
    "import numpy as np\n",
    "\n",
    "import warnings\n",
    "warnings.filterwarnings(\"ignore\")"
   ]
  },
  {
   "cell_type": "code",
   "execution_count": null,
   "metadata": {},
   "outputs": [],
   "source": [
    "dt = 2\n",
    "OBS = 30//dt-1\n",
    "PRED = 20//dt"
   ]
  },
  {
   "cell_type": "code",
   "execution_count": null,
   "metadata": {},
   "outputs": [],
   "source": [
    "Data = h5py.File('Datasets/RRot_cc2_20.h5', 'r')\n",
    "x_train = np.array(Data['Speed_obs_train'])\n",
    "y_train = np.array(Data['Speed_pred_train'])\n",
    "e_train = np.array(Data['E_train'])\n",
    "x_test = np.array(Data['Speed_obs_test'])\n",
    "y_test = np.array(Data['Speed_pred_test'])\n",
    "e_test = np.array(Data['E_test'])\n",
    "\n",
    "x_size = x_train.shape[1:]\n",
    "y_size = y_train.shape[1:]\n",
    "\n",
    "print('x_train shape:', x_train.shape)\n",
    "print('y_train shape:', y_train.shape)\n",
    "print('e_train shape:', e_train.shape)\n",
    "print(x_train.shape[0], 'train samples')\n",
    "print(x_test.shape[0], 'test samples')\n",
    "print(y_train.shape[1:], 'output size')\n",
    "\n",
    "x_train = x_train[:,-OBS:]\n",
    "x_test = x_test[:,-OBS:]\n",
    "y_train = y_train[:,:PRED]\n",
    "e_train =e_train[:,:PRED]\n",
    "y_test = y_test[:,:PRED]\n",
    "e_test =e_test[:,:PRED]\n",
    "#'''\n",
    "X_train = z_score(x_train, np.mean(x_train), np.std(x_train))\n",
    "X_test = z_score(x_test, np.mean(x_test), np.std(x_test))\n",
    "Y_train = z_score(y_train, np.mean(y_train), np.std(y_train))\n",
    "Y_test = z_score(x_test, np.mean(y_test), np.std(y_test))\n",
    "E_train = z_score(e_train, np.mean(e_train), np.std(e_train))\n",
    "E_test = z_score(e_test, np.mean(e_test), np.std(e_test))\n",
    "#'''\n",
    "print(x_train.shape, y_train.shape)"
   ]
  },
  {
   "cell_type": "code",
   "execution_count": null,
   "metadata": {},
   "outputs": [],
   "source": [
    "model = create_embed_model(obs_timesteps=OBS, pred_timesteps=PRED, nb_nodes=35, k=1)\n",
    "model.summary()"
   ]
  },
  {
   "cell_type": "code",
   "execution_count": null,
   "metadata": {},
   "outputs": [],
   "source": [
    "# load pretrained models, optional\n",
    "file=h5py.File('pretrained/cc2-k4.h5','r')\n",
    "weight = []\n",
    "for i in range(len(file.keys())):\n",
    "    weight.append(file['weight'+str(i)][:])\n",
    "model.set_weights(weight)"
   ]
  },
  {
   "cell_type": "code",
   "execution_count": null,
   "metadata": {
    "scrolled": true
   },
   "outputs": [],
   "source": [
    "# Let's train the model\n",
    "opt = keras.optimizers.Adam(lr=0.001, decay=1e-3)\n",
    "\n",
    "model.compile(loss = rmse,\n",
    "              optimizer=opt,\n",
    "              metrics=['mae', 'mape'])\n",
    "\n",
    "callbacks = [EarlyStopping(monitor='val_loss', patience=5),\n",
    "             ModelCheckpoint(filepath='\\pretrained\\test.h5', save_weights_only=True, monitor='val_loss', save_best_only=True),\n",
    "             ScheduledSampling(k=4)\n",
    "            ]\n",
    "\n",
    "history = model.fit([X_train,E_train], Y_train,\n",
    "          epochs=256,\n",
    "          batch_size=128,\n",
    "          callbacks=callbacks,\n",
    "          #validation_data = ([x_val,e_val], y_val), optional\n",
    "          shuffle='batch',\n",
    "          validation_split = 0.2\n",
    "                   )"
   ]
  },
  {
   "cell_type": "code",
   "execution_count": null,
   "metadata": {},
   "outputs": [],
   "source": [
    "y = model.predict([X_test,E_test])\n",
    "y =  z_inverse(y, np.mean(x_test), np.std(x_test))\n",
    "\n",
    "for i in range(1,PRED+1):   \n",
    "    print(MAE(y_test[:,:i]*120, y[:,:i]*120), ' ',100*MAPE(y_test[:,:i]*120, y[:,:i]*120), ' ',RMSE(y_test[:,:i]*120, y[:,:i]*120))\n",
    "print('##########')\n",
    "for i in range(PRED):\n",
    "    print(MAE(y_test[:,i]*120, y[:,i]*120), ' ',100*MAPE(y_test[:,i]*120, y[:,i]*120), ' ',RMSE(y_test[:,i]*120, y[:,i]*120))"
   ]
  },
  {
   "cell_type": "code",
   "execution_count": null,
   "metadata": {},
   "outputs": [],
   "source": [
    "#save weights, in this way to avoid tensorflow version conflict\n",
    "file = h5py.File('pretrained/cl5-k9.h5','w')\n",
    "weight = model.get_weights()\n",
    "for i in range(len(weight)):\n",
    "    file.create_dataset('weight'+str(i),data=weight[i])\n",
    "file.close()"
   ]
  },
  {
   "cell_type": "code",
   "execution_count": null,
   "metadata": {},
   "outputs": [],
   "source": [
    "# compare predictions and groundtruth\n",
    "day = 2\n",
    "j=5 # prediction steps\n",
    "start = 150*(day-1)\n",
    "end = start+150\n",
    "gt = [y_test[i] for i in range(start,end,PRED)]\n",
    "pred = [y[i][:j] for i in range(start,end,j)]\n",
    "\n",
    "ground_truth = np.concatenate(gt, axis=0)\n",
    "prediction = np.concatenate(pred, axis=0)\n",
    "\n",
    "\n",
    "plt.figure(figsize = (20,7))\n",
    "plt.imshow(ground_truth.squeeze().transpose(),aspect = 'auto')\n",
    "plt.title('matrix')\n",
    "plt.colorbar()\n",
    "\n",
    "plt.figure(figsize = (20,7))\n",
    "plt.imshow(prediction.squeeze().transpose(),aspect = 'auto')\n",
    "plt.title('matrix')\n",
    "plt.colorbar()"
   ]
  },
  {
   "cell_type": "code",
   "execution_count": null,
   "metadata": {},
   "outputs": [],
   "source": [
    "# save figs if necessary\n",
    "from utils_vis import *\n",
    "plot_figure(prediction, title1 = '10min prediction of DGCN on RotCC2 (k=0)', title2 = ' ', nb = 208, figtitle='k0.PNG', time=150, dt=2/60, color='autumn')"
   ]
  }
 ],
 "metadata": {
  "kernelspec": {
   "display_name": "Python 3",
   "language": "python",
   "name": "python3"
  },
  "language_info": {
   "codemirror_mode": {
    "name": "ipython",
    "version": 3
   },
   "file_extension": ".py",
   "mimetype": "text/x-python",
   "name": "python",
   "nbconvert_exporter": "python",
   "pygments_lexer": "ipython3",
   "version": "3.7.3"
  }
 },
 "nbformat": 4,
 "nbformat_minor": 2
}
